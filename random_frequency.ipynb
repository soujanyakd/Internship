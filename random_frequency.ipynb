{
 "cells": [
  {
   "cell_type": "code",
   "execution_count": 9,
   "metadata": {},
   "outputs": [
    {
     "name": "stdout",
     "output_type": "stream",
     "text": [
      "[56, 61, 73, 35, 45, 13, 96, 66, 97, 42, 87, 8, 27, 18, 12, 17, 74, 33, 7, 73, 57, 82, 10, 22, 62, 50, 4, 92, 5, 93, 39, 10, 72, 27, 96, 72, 41, 26, 38, 89, 60, 79, 30, 8, 69, 45, 26, 70, 98, 37, 11, 25, 60, 41, 31, 1, 36, 97, 22, 53, 1, 88, 23, 29, 46, 71, 28, 82, 50, 36, 36, 83, 53, 1, 33, 21, 86, 65, 47, 25, 92, 22, 16, 92, 2, 31, 84, 40, 16, 82, 50, 95, 42, 34, 12, 22, 3, 35, 14, 22, 48, 38, 89, 68, 75, 10, 12, 51, 46, 89, 18, 91, 84, 43, 58, 68, 6, 4, 35, 34, 5, 92, 29, 13, 83, 62, 50, 4, 31, 38, 89, 87, 47, 52, 6, 95, 80, 48, 29, 84, 44, 1, 10, 40, 34, 37, 80, 68, 4, 20, 11, 36, 55, 28, 4, 95, 37, 51, 38, 97, 18, 93, 55, 65, 84, 5, 89, 27, 58, 1, 25, 45, 61, 62, 40, 42, 4, 9, 17, 69, 54, 100, 65, 80, 87, 11, 25, 90, 3, 52, 57, 5, 7, 36, 61, 36, 61, 99, 45, 27, 45, 4, 17, 58, 42, 21, 41, 52, 86, 70, 37, 76, 51, 22, 26, 56, 65, 41, 39, 39, 12, 65, 71, 65, 50, 31, 52, 45, 44, 7, 100, 47, 39, 96, 32, 85, 90, 58, 31, 50, 51, 44, 29, 96, 37, 90, 8, 89, 35, 89, 88, 67, 23, 67, 40, 61, 26, 97, 37, 48, 9, 48, 40, 3, 68, 40, 91, 13, 56, 5, 4, 25, 33, 26, 94, 6, 58, 8, 95, 72, 30, 13, 63, 84, 84, 15, 44, 21, 21, 76, 25, 34, 2, 81, 77, 32, 61, 64, 27, 15, 58, 33, 21, 87, 93, 80, 65, 71, 59, 32, 30, 52, 25, 97, 97, 8, 41, 99, 94, 100, 55, 38, 13, 52, 40, 39, 35, 70, 42, 33, 32, 45, 71, 32, 87, 85, 16, 5, 18, 44, 87, 91, 23, 87, 10, 9, 11, 12, 36, 95, 92, 34, 92, 55, 60, 76, 59, 7, 2, 45, 7, 13, 39, 51, 60, 8, 70, 96, 89, 92, 53, 41, 29, 94, 93, 27, 85, 44, 70, 5, 91, 76, 23, 30, 30, 97, 82, 43, 59, 75, 54, 88, 9, 9, 90, 90, 93, 72, 20, 5, 45, 24, 30, 6, 69, 24, 18, 97, 64, 54, 72, 13, 67, 77, 6, 61, 77, 47, 57, 45, 5, 53, 35, 98, 4, 94, 63, 66, 71, 21, 17, 8, 85, 52, 43, 42, 13, 28, 83, 25, 39, 25, 91, 85, 50, 24, 33, 93, 86, 80, 87, 53, 13, 14, 40, 87, 63, 5, 59, 29, 64, 90, 91, 34, 70, 81, 98, 31, 47, 42, 46, 31, 92, 92, 57, 53, 76, 18, 81, 49, 97, 50, 91, 3, 2, 55, 80, 22, 74, 87, 93, 4, 49, 54, 65, 21, 79, 4, 27, 89, 14, 71, 15, 70, 51, 24, 78, 39, 34, 8, 5, 51, 47, 28, 61, 60, 24, 99, 39, 3, 22, 5, 24, 85, 45, 66, 30, 13, 74, 33, 65, 28, 94, 90, 56, 27, 97, 83, 38, 75, 51, 94, 38, 95, 47, 86, 75, 46, 34, 77, 100, 43, 58, 83, 7, 53, 1, 72, 98, 33, 30, 56, 63, 12, 94, 13, 66, 79, 14, 27, 1, 98, 56, 85, 49, 66, 56, 90, 47, 96, 24, 48, 18, 93, 92, 64, 13, 62, 89, 37, 8, 9, 89, 36, 44, 19, 93, 83, 10, 64, 64, 46, 89, 75, 31, 81, 37, 35, 29, 4, 29, 85, 13, 5, 49, 73, 93, 77, 27, 75, 63, 5, 84, 33, 66, 8, 92, 83, 94, 95, 75, 47, 75, 11, 16, 93, 94, 10, 19, 48, 17, 40, 100, 4, 1, 77, 86, 86, 7, 26, 6, 2, 93, 58, 2, 82, 17, 38, 37, 83, 47, 88, 43, 41, 61, 29, 53, 38, 48, 53, 1, 84, 85, 89, 56, 81, 61, 83, 41, 24, 70, 36, 42, 97, 23, 25, 48, 24, 24, 33, 44, 89, 50, 78, 88, 25, 42, 67, 83, 92, 70, 78, 78, 78, 95, 29, 79, 94, 2, 78, 41, 86, 82, 11, 96, 91, 33, 69, 82, 81, 96, 10, 92, 4, 14, 86, 38, 34, 62, 68, 50, 50, 42, 25, 94, 29, 41, 24, 22, 36, 99, 53, 66, 85, 90, 80, 6, 58, 100, 19, 82, 9, 40, 31, 64, 80, 50, 90, 89, 35, 99, 50, 43, 98, 19, 61, 95, 89, 49, 8, 32, 36, 7, 79, 53, 59, 55, 26, 97, 51, 46, 54, 55, 13, 32, 24, 52, 89, 93, 78, 13, 13, 18, 71, 39, 83, 3, 35, 77, 60, 2, 23, 71, 10, 70, 80, 86, 43, 49, 2, 36, 33, 4, 50, 33, 28, 64, 89, 6, 61, 89, 83, 9, 56, 23, 68, 36, 64, 26, 46, 82, 71, 21, 99, 61, 24, 26, 38, 76, 16, 66, 75, 12, 60, 52, 1, 35, 19, 7, 43, 96, 40, 86, 84, 46, 39, 93, 89, 34, 99, 86, 77, 69, 67, 44, 47, 14, 4, 87, 45, 13, 73, 46, 11, 6, 62, 25, 73, 96, 25, 22, 65, 100, 88, 95, 75, 42, 47, 11, 88, 70, 12, 7, 22, 21, 21, 8, 39, 80, 1, 3, 61, 72, 68, 100, 80, 16, 17, 58, 35, 43, 73, 43, 1, 87, 24, 10, 15, 4, 60, 15, 63, 24, 98, 100, 9, 72, 54, 51, 58, 10, 43, 56, 46, 96, 54, 29, 82, 81, 11, 71, 100, 6, 51, 51, 89, 69, 13, 2, 45, 90, 7, 12, 58, 57, 27, 79, 44, 29, 71, 51, 85, 14, 54, 94, 50, 69, 91, 72, 28, 10, 45, 23, 39, 76, 73, 69, 58, 6, 75, 25, 72, 13, 94, 99, 93, 76, 16, 19, 100, 21, 18, 38, 92, 27, 23, 2, 100, 13, 37]\n"
     ]
    }
   ],
   "source": [
    "from random import randint\n",
    "list_random=[]\n",
    "#to print 1000 random integers from 1 to 100\n",
    "for val in range(1000):\n",
    "    value = randint(1, 100)\n",
    "    list_random.append(value)\n",
    "print(list_random)"
   ]
  },
  {
   "cell_type": "code",
   "execution_count": 10,
   "metadata": {},
   "outputs": [
    {
     "data": {
      "text/html": [
       "<div>\n",
       "<style scoped>\n",
       "    .dataframe tbody tr th:only-of-type {\n",
       "        vertical-align: middle;\n",
       "    }\n",
       "\n",
       "    .dataframe tbody tr th {\n",
       "        vertical-align: top;\n",
       "    }\n",
       "\n",
       "    .dataframe thead th {\n",
       "        text-align: right;\n",
       "    }\n",
       "</style>\n",
       "<table border=\"1\" class=\"dataframe\">\n",
       "  <thead>\n",
       "    <tr style=\"text-align: right;\">\n",
       "      <th></th>\n",
       "      <th>Random_Numbers</th>\n",
       "    </tr>\n",
       "  </thead>\n",
       "  <tbody>\n",
       "    <tr>\n",
       "      <th>0</th>\n",
       "      <td>56</td>\n",
       "    </tr>\n",
       "    <tr>\n",
       "      <th>1</th>\n",
       "      <td>61</td>\n",
       "    </tr>\n",
       "    <tr>\n",
       "      <th>2</th>\n",
       "      <td>73</td>\n",
       "    </tr>\n",
       "    <tr>\n",
       "      <th>3</th>\n",
       "      <td>35</td>\n",
       "    </tr>\n",
       "    <tr>\n",
       "      <th>4</th>\n",
       "      <td>45</td>\n",
       "    </tr>\n",
       "  </tbody>\n",
       "</table>\n",
       "</div>"
      ],
      "text/plain": [
       "   Random_Numbers\n",
       "0              56\n",
       "1              61\n",
       "2              73\n",
       "3              35\n",
       "4              45"
      ]
     },
     "execution_count": 10,
     "metadata": {},
     "output_type": "execute_result"
    }
   ],
   "source": [
    "import pandas as pd\n",
    "df=pd.DataFrame(data=list_random,columns=['Random_Numbers'])\n",
    "#to print first few lines of data frame\n",
    "df.head()"
   ]
  },
  {
   "cell_type": "code",
   "execution_count": 11,
   "metadata": {},
   "outputs": [
    {
     "name": "stdout",
     "output_type": "stream",
     "text": [
      "col_0           count\n",
      "Random_Numbers       \n",
      "1                  12\n",
      "2                  11\n",
      "3                   7\n",
      "4                  17\n",
      "5                  14\n"
     ]
    }
   ],
   "source": [
    "#frequency=df['Random_Numbers'].value_counts()\n",
    "#frequency.head()\n",
    "#creating frequency table \n",
    "frequency = pd.crosstab(index=df[\"Random_Numbers\"],columns=\"count\")   \n",
    "print(frequency.head())"
   ]
  },
  {
   "cell_type": "code",
   "execution_count": 12,
   "metadata": {},
   "outputs": [
    {
     "data": {
      "text/plain": [
       "array([[<matplotlib.axes._subplots.AxesSubplot object at 0x0000017013A995F8>]],\n",
       "      dtype=object)"
      ]
     },
     "execution_count": 12,
     "metadata": {},
     "output_type": "execute_result"
    },
    {
     "data": {
      "image/png": "[encoded data removed]",
      "text/plain": [
       "<Figure size 432x288 with 1 Axes>"
      ]
     },
     "metadata": {
      "needs_background": "light"
     },
     "output_type": "display_data"
    }
   ],
   "source": [
    "#to plot histogram of frequency table\n",
    "frequency.hist()"
   ]
  },
  {
   "cell_type": "code",
   "execution_count": 13,
   "metadata": {},
   "outputs": [
    {
     "data": {
      "text/html": [
       "<div>\n",
       "<style scoped>\n",
       "    .dataframe tbody tr th:only-of-type {\n",
       "        vertical-align: middle;\n",
       "    }\n",
       "\n",
       "    .dataframe tbody tr th {\n",
       "        vertical-align: top;\n",
       "    }\n",
       "\n",
       "    .dataframe thead th {\n",
       "        text-align: right;\n",
       "    }\n",
       "</style>\n",
       "<table border=\"1\" class=\"dataframe\">\n",
       "  <thead>\n",
       "    <tr style=\"text-align: right;\">\n",
       "      <th>col_0</th>\n",
       "      <th>count</th>\n",
       "    </tr>\n",
       "    <tr>\n",
       "      <th>Random_Numbers</th>\n",
       "      <th></th>\n",
       "    </tr>\n",
       "  </thead>\n",
       "  <tbody>\n",
       "    <tr>\n",
       "      <th>1</th>\n",
       "      <td>12</td>\n",
       "    </tr>\n",
       "    <tr>\n",
       "      <th>2</th>\n",
       "      <td>11</td>\n",
       "    </tr>\n",
       "    <tr>\n",
       "      <th>3</th>\n",
       "      <td>7</td>\n",
       "    </tr>\n",
       "    <tr>\n",
       "      <th>4</th>\n",
       "      <td>17</td>\n",
       "    </tr>\n",
       "    <tr>\n",
       "      <th>5</th>\n",
       "      <td>14</td>\n",
       "    </tr>\n",
       "  </tbody>\n",
       "</table>\n",
       "</div>"
      ],
      "text/plain": [
       "col_0           count\n",
       "Random_Numbers       \n",
       "1                  12\n",
       "2                  11\n",
       "3                   7\n",
       "4                  17\n",
       "5                  14"
      ]
     },
     "execution_count": 13,
     "metadata": {},
     "output_type": "execute_result"
    }
   ],
   "source": [
    "#created a data frame of frequency table\n",
    "frequency_table=pd.DataFrame(data=frequency)\n",
    "frequency_table.head()"
   ]
  },
  {
   "cell_type": "code",
   "execution_count": 16,
   "metadata": {},
   "outputs": [
    {
     "data": {
      "text/html": [
       "<div>\n",
       "<style scoped>\n",
       "    .dataframe tbody tr th:only-of-type {\n",
       "        vertical-align: middle;\n",
       "    }\n",
       "\n",
       "    .dataframe tbody tr th {\n",
       "        vertical-align: top;\n",
       "    }\n",
       "\n",
       "    .dataframe thead th {\n",
       "        text-align: right;\n",
       "    }\n",
       "</style>\n",
       "<table border=\"1\" class=\"dataframe\">\n",
       "  <thead>\n",
       "    <tr style=\"text-align: right;\">\n",
       "      <th>col_0</th>\n",
       "      <th>Random_Numbers</th>\n",
       "      <th>count</th>\n",
       "    </tr>\n",
       "  </thead>\n",
       "  <tbody>\n",
       "    <tr>\n",
       "      <th>0</th>\n",
       "      <td>89</td>\n",
       "      <td>21</td>\n",
       "    </tr>\n",
       "    <tr>\n",
       "      <th>1</th>\n",
       "      <td>13</td>\n",
       "      <td>20</td>\n",
       "    </tr>\n",
       "    <tr>\n",
       "      <th>2</th>\n",
       "      <td>4</td>\n",
       "      <td>17</td>\n",
       "    </tr>\n",
       "    <tr>\n",
       "      <th>3</th>\n",
       "      <td>93</td>\n",
       "      <td>15</td>\n",
       "    </tr>\n",
       "    <tr>\n",
       "      <th>4</th>\n",
       "      <td>50</td>\n",
       "      <td>15</td>\n",
       "    </tr>\n",
       "  </tbody>\n",
       "</table>\n",
       "</div>"
      ],
      "text/plain": [
       "col_0  Random_Numbers  count\n",
       "0                  89     21\n",
       "1                  13     20\n",
       "2                   4     17\n",
       "3                  93     15\n",
       "4                  50     15"
      ]
     },
     "execution_count": 16,
     "metadata": {},
     "output_type": "execute_result"
    }
   ],
   "source": [
    "#sorting the frequency table\n",
    "sortedf=frequency_table.sort_values(\"count\",ascending=False)\n",
    "sortedf.reset_index(inplace=True)\n",
    "sortedf.head()"
   ]
  },
  {
   "cell_type": "code",
   "execution_count": 17,
   "metadata": {},
   "outputs": [
    {
     "name": "stdout",
     "output_type": "stream",
     "text": [
      "col_0 Random_Numbers  count\n",
      "0                 89     21\n",
      "1                 13     20\n",
      "2                  4     17\n",
      "3                 93     15\n",
      "4                 50     15\n",
      "5              Other     15\n",
      "6              Other     15\n",
      "7              Other     14\n",
      "8              Other     14\n",
      "9              Other     14\n",
      "10             Other     14\n",
      "11             Other     13\n",
      "12             Other     13\n",
      "13             Other     13\n",
      "14             Other     13\n",
      "15             Other     13\n",
      "16             Other     13\n",
      "17             Other     13\n",
      "18             Other     12\n",
      "19             Other     12\n",
      "20             Other     12\n",
      "21             Other     12\n",
      "22             Other     12\n",
      "23             Other     12\n",
      "24             Other     12\n",
      "25             Other     12\n",
      "26             Other     12\n",
      "27             Other     12\n",
      "28             Other     11\n",
      "29             Other     11\n",
      "..               ...    ...\n",
      "70             Other      8\n",
      "71             Other      8\n",
      "72             Other      8\n",
      "73             Other      8\n",
      "74             Other      8\n",
      "75             Other      8\n",
      "76             Other      7\n",
      "77             Other      7\n",
      "78             Other      7\n",
      "79             Other      7\n",
      "80             Other      7\n",
      "81             Other      7\n",
      "82             Other      7\n",
      "83             Other      7\n",
      "84             Other      7\n",
      "85             Other      7\n",
      "86             Other      7\n",
      "87             Other      7\n",
      "88             Other      7\n",
      "89             Other      6\n",
      "90             Other      6\n",
      "91             Other      6\n",
      "92             Other      6\n",
      "93             Other      6\n",
      "94             Other      5\n",
      "95             Other      5\n",
      "96             Other      5\n",
      "97             Other      5\n",
      "98             Other      3\n",
      "99             Other      2\n",
      "\n",
      "[100 rows x 2 columns]\n"
     ]
    },
    {
     "data": {
      "text/plain": [
       "Random_Numbers\n",
       "4         17\n",
       "13        20\n",
       "50        15\n",
       "89        21\n",
       "93        15\n",
       "Other    912\n",
       "Name: count, dtype: int64"
      ]
     },
     "execution_count": 17,
     "metadata": {},
     "output_type": "execute_result"
    }
   ],
   "source": [
    "#except for first 5 raow renaming rest of the row as 'Other'\n",
    "sortedf.loc[5:,['Random_Numbers']] = 'Other'\n",
    "print(sortedf)\n",
    "final=sortedf.groupby(['Random_Numbers'])['count'].sum()\n",
    "final"
   ]
  },
  {
   "cell_type": "code",
   "execution_count": 18,
   "metadata": {},
   "outputs": [
    {
     "data": {
      "text/plain": [
       "<matplotlib.axes._subplots.AxesSubplot at 0x17013c01d68>"
      ]
     },
     "execution_count": 18,
     "metadata": {},
     "output_type": "execute_result"
    },
    {
     "data": {
      "image/png": "[encoded data removed]",
      "text/plain": [
       "<Figure size 1440x1440 with 1 Axes>"
      ]
     },
     "metadata": {
      "needs_background": "light"
     },
     "output_type": "display_data"
    }
   ],
   "source": [
    "#import matplotlib.pyplot as plt\n",
    "final.plot(kind=\"bar\",figsize=(20,20))"
   ]
  },
  {
   "cell_type": "code",
   "execution_count": null,
   "metadata": {},
   "outputs": [],
   "source": []
  }
 ],
 "metadata": {
  "kernelspec": {
   "display_name": "Python 3",
   "language": "python",
   "name": "python3"
  },
  "language_info": {
   "codemirror_mode": {
    "name": "ipython",
    "version": 3
   },
   "file_extension": ".py",
   "mimetype": "text/x-python",
   "name": "python",
   "nbconvert_exporter": "python",
   "pygments_lexer": "ipython3",
   "version": "3.7.3"
  }
 },
 "nbformat": 4,
 "nbformat_minor": 2
}
