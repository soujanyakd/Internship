{
 "cells": [
  {
   "cell_type": "code",
   "execution_count": 3,
   "metadata": {},
   "outputs": [
    {
     "name": "stdout",
     "output_type": "stream",
     "text": [
      "Enter square matrix: 4\n",
      "Enter Matrix element: 1\n",
      "Enter Matrix element: 2\n",
      "Enter Matrix element: 3\n",
      "Enter Matrix element: 4\n",
      "Enter Matrix element: 5\n",
      "Enter Matrix element: 6\n",
      "Enter Matrix element: 7\n",
      "Enter Matrix element: 8\n",
      "Enter Matrix element: 9\n",
      "Enter Matrix element: 10\n",
      "Enter Matrix element: 11\n",
      "Enter Matrix element: 12\n",
      "Enter Matrix element: 13\n",
      "Enter Matrix element: 14\n",
      "Enter Matrix element: 15\n",
      "Enter Matrix element: 16\n",
      "[[ 1  2  3  4]\n",
      " [ 5  6  7  8]\n",
      " [ 9 10 11 12]\n",
      " [13 14 15 16]]\n",
      "Swapped Matrix is :\n",
      "[[ 4  2  3  1]\n",
      " [ 5  7  6  8]\n",
      " [ 9 11 10 12]\n",
      " [16 14 15 13]]\n"
     ]
    }
   ],
   "source": [
    "import numpy as np\n",
    "list_element=[]\n",
    "n=int(input(\"Enter square matrix: \"))\n",
    "for row in range(n):\n",
    "    for col in range(n):\n",
    "        element = int(input(\"Enter Matrix element: \"))\n",
    "        list_element.append(element)\n",
    "\n",
    "matrix=np.array(list_element).reshape(n,n)\n",
    "print(matrix)\n",
    "#loop to swap diagonal\n",
    "for index in range(n):\n",
    "        temp = matrix[index][index]\n",
    "        matrix[index][index] = matrix[index][n - index - 1]\n",
    "        matrix[index][n - index - 1] = temp\n",
    "print(\"Swapped Matrix is :\")\n",
    "print(matrix)"
   ]
  },
  {
   "cell_type": "code",
   "execution_count": 1,
   "metadata": {},
   "outputs": [
    {
     "name": "stdout",
     "output_type": "stream",
     "text": [
      "Enter size square matrix: 3\n",
      "Enter list of elements seperated by space: 1 2 3 4 5 6 7 8 9\n",
      "[[1 2 3]\n",
      " [4 5 6]\n",
      " [7 8 9]]\n",
      "Swapped Matrix is :\n",
      "[[3 2 1]\n",
      " [6 5 4]\n",
      " [9 8 7]]\n"
     ]
    }
   ],
   "source": [
    "import numpy as np\n",
    "size=int(input(\"Enter size square matrix: \"))\n",
    "n=size*size\n",
    "list_element=list(int(num) for num in input(\"Enter list of elements seperated by space: \").strip().split())[:n]\n",
    "matrix=np.array(list_element).reshape(size,size)\n",
    "print(matrix)\n",
    "matrix=np.fliplr(matrix)\n",
    "print(\"Swapped Matrix is :\")\n",
    "print(matrix)"
   ]
  },
  {
   "cell_type": "code",
   "execution_count": null,
   "metadata": {},
   "outputs": [],
   "source": []
  }
 ],
 "metadata": {
  "kernelspec": {
   "display_name": "Python 3",
   "language": "python",
   "name": "python3"
  },
  "language_info": {
   "codemirror_mode": {
    "name": "ipython",
    "version": 3
   },
   "file_extension": ".py",
   "mimetype": "text/x-python",
   "name": "python",
   "nbconvert_exporter": "python",
   "pygments_lexer": "ipython3",
   "version": "3.7.3"
  }
 },
 "nbformat": 4,
 "nbformat_minor": 2
}
