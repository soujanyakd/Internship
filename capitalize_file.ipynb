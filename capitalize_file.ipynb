{
 "cells": [
  {
   "cell_type": "code",
   "execution_count": 13,
   "metadata": {},
   "outputs": [],
   "source": [
    "#opening and reading a file\n",
    "with open(\"story.txt\",\"r\") as file1:\n",
    "    content=file1.read()"
   ]
  },
  {
   "cell_type": "code",
   "execution_count": 14,
   "metadata": {},
   "outputs": [
    {
     "name": "stdout",
     "output_type": "stream",
     "text": [
      "['One', 'day', 'a', 'blue', 'baby', 'Spuddle', 'was', 'born,', 'but', '?its', 'parents', \"didn't\", 'grow', 'a', 'blue', 'arm.', 'Well,', 'what', 'a', 'problem!', 'How', 'could', 'the', 'parents', 'care', 'for', 'their', 'blue', 'baby', 'if', 'they', 'only', 'had', 'the', 'green', 'arm', 'they', 'had', '#used', 'for', 'the', \"baby's\", 'older', 'brother,', 'and', 'the', 'pink', 'arm', 'they', 'had', 'used', 'for', 'his', 'older', 'sister?', 'The', 'first', 'thing', 'the', 'parents', 'tried', 'was', 'to', 'attach', 'a', 'fake', 'arm,', 'but', 'that', 'was', 'useless,', 'and', 'the', 'baby', 'did', 'nothing', 'but', 'cry.', 'Then', 'they', 'asked', 'for', 'help', 'from', 'other', 'Spuddle', 'parents,', 'but', 'all', 'of', 'them', 'were', 'using', 'their', 'arms', 'to', 'look', 'after', 'their', '*own', 'children,', 'and', 'nobody', 'could', 'do', 'anything.']\n"
     ]
    }
   ],
   "source": [
    "#spliting the content of the file into words\n",
    "list_word=content.split()\n",
    "print(list_word)"
   ]
  },
  {
   "cell_type": "code",
   "execution_count": 15,
   "metadata": {},
   "outputs": [
    {
     "name": "stdout",
     "output_type": "stream",
     "text": [
      "109\n"
     ]
    }
   ],
   "source": [
    "#getting a count of number of white spaces in the file\n",
    "count=0\n",
    "for space in content:\n",
    "    if space==\" \":\n",
    "        count= count+1\n",
    "print(count)"
   ]
  },
  {
   "cell_type": "code",
   "execution_count": 16,
   "metadata": {},
   "outputs": [],
   "source": [
    "#capitilizing each word and writing it into new file\n",
    "with open (\"Capitalize_story.txt\",\"w\") as file2:\n",
    "    file2.write(str.ca)"
   ]
  },
  {
   "cell_type": "code",
   "execution_count": 17,
   "metadata": {},
   "outputs": [
    {
     "name": "stdout",
     "output_type": "stream",
     "text": [
      "One Day A Blue Baby Spuddle Was Born, But ?its Parents Didn't Grow A Blue Arm. Well, What A Problem! How Could The Parents Care For Their Blue Baby If They Only Had The Green Arm They Had #used For The Baby's Older Brother, And The Pink Arm They Had Used For His Older Sister? The First Thing The Parents Tried Was To Attach A Fake Arm, But That Was Useless, And The Baby Did Nothing But Cry. Then They Asked For Help From Other Spuddle Parents, But All Of Them Were Using Their Arms To Look After Their *own Children, And Nobody Could Do Anything.\n"
     ]
    }
   ],
   "source": [
    "#reading the capitalized file and priting the content and calculating number of white spaces \n",
    "with open(\"Capitalize_story.txt\", \"r\") as file2:\n",
    "    content_file2 = file2.read()\n",
    "    count=0\n",
    "    for space in content_file2:\n",
    "        if space==\" \":\n",
    "            count+=1\n",
    "    print(content_file2)\n",
    "        "
   ]
  },
  {
   "cell_type": "code",
   "execution_count": 12,
   "metadata": {},
   "outputs": [
    {
     "name": "stdout",
     "output_type": "stream",
     "text": [
      "The number of white spaces in Capitalized file is:  105\n"
     ]
    }
   ],
   "source": [
    "print(\"The number of white spaces in Capitalized file is: \", count)"
   ]
  },
  {
   "cell_type": "code",
   "execution_count": null,
   "metadata": {},
   "outputs": [],
   "source": [
    "with open(x, \"wb\") as outputFile:\n",
    "            outputfile.write(str.upper(content))\n",
    "            outputfile.close()"
   ]
  }
 ],
 "metadata": {
  "kernelspec": {
   "display_name": "Python 3",
   "language": "python",
   "name": "python3"
  },
  "language_info": {
   "codemirror_mode": {
    "name": "ipython",
    "version": 3
   },
   "file_extension": ".py",
   "mimetype": "text/x-python",
   "name": "python",
   "nbconvert_exporter": "python",
   "pygments_lexer": "ipython3",
   "version": "3.7.3"
  }
 },
 "nbformat": 4,
 "nbformat_minor": 2
}
